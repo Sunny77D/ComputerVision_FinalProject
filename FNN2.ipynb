{
 "cells": [
  {
   "cell_type": "code",
   "execution_count": 1,
   "metadata": {},
   "outputs": [],
   "source": [
    "import torch\n",
    "import torch.nn as nn\n",
    "import torch.nn.functional as F\n",
    "import torch.optim as optim\n",
    "import torchvision.transforms as transforms"
   ]
  },
  {
   "cell_type": "code",
   "execution_count": 2,
   "metadata": {},
   "outputs": [
    {
     "name": "stderr",
     "output_type": "stream",
     "text": [
      "Using TensorFlow backend.\n"
     ]
    }
   ],
   "source": [
    "import os\n",
    "from glob import glob\n",
    "import random\n",
    "import time\n",
    "import datetime\n",
    "os.environ['KERAS_BACKEND'] = 'tensorflow'\n",
    "os.environ['TF_CPP_MIN_LOG_LEVEL'] = '3' # 3 = INFO, WARNING, and ERROR messages are not printed\n",
    "\n",
    "from tqdm import tqdm\n",
    "\n",
    "import numpy as np\n",
    "import pandas as pd\n",
    "from IPython.display import FileLink\n",
    "import matplotlib.pyplot as plt\n",
    "import warnings\n",
    "warnings.filterwarnings('ignore')\n",
    "import seaborn as sns \n",
    "%matplotlib inline\n",
    "from IPython.display import display, Image\n",
    "import matplotlib.image as mpimg\n",
    "import cv2\n",
    "\n",
    "from sklearn.model_selection import train_test_split\n",
    "from sklearn.datasets import load_files       \n",
    "from keras.utils import np_utils\n",
    "from sklearn.utils import shuffle\n",
    "from sklearn.metrics import log_loss\n",
    "\n",
    "from keras.models import Sequential, Model\n",
    "from keras.layers import Conv2D, MaxPooling2D, Flatten, Dense, Dropout, BatchNormalization, GlobalAveragePooling2D\n",
    "from keras.preprocessing.image import ImageDataGenerator\n",
    "from keras.preprocessing import image\n",
    "from keras.callbacks import ModelCheckpoint, EarlyStopping\n",
    "from keras.applications.vgg16 import VGG16\n",
    "\n",
    "#our additions\n",
    "import json\n",
    "import sklearn"
   ]
  },
  {
   "cell_type": "code",
   "execution_count": 6,
   "metadata": {},
   "outputs": [],
   "source": [
    "# Load the dataset previously downloaded from Kaggle\n",
    "NUMBER_CLASSES = 10\n",
    "\n",
    "def load_train():\n",
    "    start_time = time.time()\n",
    "    train_pose = [] \n",
    "    train_labels = []\n",
    "    # Loop over the training folder \n",
    "    for classed in tqdm(range(NUMBER_CLASSES)):\n",
    "        print('Loading directory c{}'.format(classed))\n",
    "        files = glob(os.path.join('sample_json', 'c' + str(classed), '*.json'))\n",
    "        for file in files:\n",
    "            jsonFile = open(file, 'r')\n",
    "            try: \n",
    "                values = json.load(jsonFile)['people'][0]['pose_keypoints_2d']\n",
    "            except IndexError: \n",
    "                continue\n",
    "            #print(values)\n",
    "            #print(len(values))\n",
    "            train_pose.append(values)\n",
    "            train_labels.append(classed)\n",
    "    print(\"Data Loaded in {} second\".format(time.time() - start_time))\n",
    "    return train_pose, train_labels "
   ]
  },
  {
   "cell_type": "code",
   "execution_count": 7,
   "metadata": {},
   "outputs": [
    {
     "name": "stderr",
     "output_type": "stream",
     "text": [
      "\r",
      "  0%|          | 0/10 [00:00<?, ?it/s]"
     ]
    },
    {
     "name": "stdout",
     "output_type": "stream",
     "text": [
      "Loading directory c0\n"
     ]
    },
    {
     "name": "stderr",
     "output_type": "stream",
     "text": [
      "\r",
      " 10%|█         | 1/10 [00:10<01:32, 10.33s/it]"
     ]
    },
    {
     "name": "stdout",
     "output_type": "stream",
     "text": [
      "Loading directory c1\n"
     ]
    },
    {
     "name": "stderr",
     "output_type": "stream",
     "text": [
      "\r",
      " 20%|██        | 2/10 [00:19<01:20, 10.03s/it]"
     ]
    },
    {
     "name": "stdout",
     "output_type": "stream",
     "text": [
      "Loading directory c2\n"
     ]
    },
    {
     "name": "stderr",
     "output_type": "stream",
     "text": [
      "\r",
      " 30%|███       | 3/10 [00:29<01:10, 10.08s/it]"
     ]
    },
    {
     "name": "stdout",
     "output_type": "stream",
     "text": [
      "Loading directory c3\n"
     ]
    },
    {
     "name": "stderr",
     "output_type": "stream",
     "text": [
      "\r",
      " 40%|████      | 4/10 [00:40<01:01, 10.33s/it]"
     ]
    },
    {
     "name": "stdout",
     "output_type": "stream",
     "text": [
      "Loading directory c4\n"
     ]
    },
    {
     "name": "stderr",
     "output_type": "stream",
     "text": [
      "\r",
      " 50%|█████     | 5/10 [00:50<00:51, 10.27s/it]"
     ]
    },
    {
     "name": "stdout",
     "output_type": "stream",
     "text": [
      "Loading directory c5\n"
     ]
    },
    {
     "name": "stderr",
     "output_type": "stream",
     "text": [
      "\r",
      " 60%|██████    | 6/10 [01:01<00:41, 10.49s/it]"
     ]
    },
    {
     "name": "stdout",
     "output_type": "stream",
     "text": [
      "Loading directory c6\n"
     ]
    },
    {
     "name": "stderr",
     "output_type": "stream",
     "text": [
      "\r",
      " 70%|███████   | 7/10 [01:11<00:30, 10.23s/it]"
     ]
    },
    {
     "name": "stdout",
     "output_type": "stream",
     "text": [
      "Loading directory c7\n"
     ]
    },
    {
     "name": "stderr",
     "output_type": "stream",
     "text": [
      "\r",
      " 80%|████████  | 8/10 [01:20<00:19,  9.75s/it]"
     ]
    },
    {
     "name": "stdout",
     "output_type": "stream",
     "text": [
      "Loading directory c8\n"
     ]
    },
    {
     "name": "stderr",
     "output_type": "stream",
     "text": [
      "\r",
      " 90%|█████████ | 9/10 [01:29<00:09,  9.71s/it]"
     ]
    },
    {
     "name": "stdout",
     "output_type": "stream",
     "text": [
      "Loading directory c9\n"
     ]
    },
    {
     "name": "stderr",
     "output_type": "stream",
     "text": [
      "100%|██████████| 10/10 [01:38<00:00,  9.88s/it]\n"
     ]
    },
    {
     "name": "stdout",
     "output_type": "stream",
     "text": [
      "Data Loaded in 98.80674338340759 second\n"
     ]
    }
   ],
   "source": [
    "train_pose, train_labels = load_train()\n",
    "# train_labels            = np_utils.to_categorical(train_labels, 10)"
   ]
  },
  {
   "cell_type": "code",
   "execution_count": 8,
   "metadata": {},
   "outputs": [
    {
     "name": "stdout",
     "output_type": "stream",
     "text": [
      "22394\n",
      "22394\n"
     ]
    }
   ],
   "source": [
    "print(len(train_pose))\n",
    "print(len(train_labels))"
   ]
  },
  {
   "cell_type": "code",
   "execution_count": 9,
   "metadata": {},
   "outputs": [],
   "source": [
    "#randomly assign train and validation sets 80/20 split\n",
    "X_train, X_test, Y_train, Y_test = train_test_split(train_pose, train_labels, test_size= 0.2, random_state=42)"
   ]
  },
  {
   "cell_type": "code",
   "execution_count": 424,
   "metadata": {},
   "outputs": [
    {
     "name": "stdout",
     "output_type": "stream",
     "text": [
      "[5, 7, 3, 4, 2, 1, 2, 3, 0, 8]\n"
     ]
    }
   ],
   "source": [
    "print((Y_train[:10]))"
   ]
  },
  {
   "cell_type": "code",
   "execution_count": 425,
   "metadata": {},
   "outputs": [],
   "source": [
    "class Net(nn.Module):\n",
    "\n",
    "    def __init__(self):\n",
    "        super(Net, self).__init__()\n",
    "        self.hidden = nn.Linear(75, 50)\n",
    "        self.hidden2 = nn.Linear(50, 25)\n",
    "        self.output = nn.Linear(25, 10)\n",
    "        self.sigmoid = nn.Sigmoid()\n",
    "        \n",
    "    def forward(self, x):\n",
    "        x = self.hidden(x)\n",
    "        x = self.sigmoid(x)\n",
    "        x = self.hidden2(x)\n",
    "        x = self.sigmoid(x)\n",
    "        x = self.output(x)\n",
    "        return x\n"
   ]
  },
  {
   "cell_type": "code",
   "execution_count": 10,
   "metadata": {},
   "outputs": [],
   "source": [
    "class Net(nn.Module):\n",
    "    def __init__(self):\n",
    "        super(Net, self).__init__()\n",
    "        self.hidden = nn.Linear(75, 150)\n",
    "        self.hidden2 = nn.Linear(150, 100)\n",
    "        self.hidden3 = nn.Linear(100, 30)\n",
    "        self.output = nn.Linear(30, 10)\n",
    "        self.sigmoid = nn.Sigmoid()\n",
    "        self.tanh    = nn.Tanh() \n",
    "        \n",
    "    def forward(self, x):\n",
    "        x = self.hidden(x)\n",
    "        x = self.tanh(x)\n",
    "        x = self.hidden2(x)\n",
    "        x = self.tanh(x)\n",
    "        x = self.hidden3(x)\n",
    "        x = F.tanh(x)\n",
    "        x = self.output(x)\n",
    "        return x"
   ]
  },
  {
   "cell_type": "code",
   "execution_count": 17,
   "metadata": {},
   "outputs": [],
   "source": [
    "net = Net()\n",
    "\n",
    "criterion = nn.CrossEntropyLoss()\n",
    "optimizer = optim.SGD(net.parameters(), lr=0.001, momentum=.5)"
   ]
  },
  {
   "cell_type": "code",
   "execution_count": 18,
   "metadata": {},
   "outputs": [
    {
     "name": "stdout",
     "output_type": "stream",
     "text": [
      "[Epoch: 1] loss: 40.264\n",
      "[Epoch: 2] loss: 38.396\n",
      "[Epoch: 3] loss: 35.998\n",
      "[Epoch: 4] loss: 33.535\n",
      "[Epoch: 5] loss: 31.496\n",
      "[Epoch: 6] loss: 29.990\n",
      "[Epoch: 7] loss: 28.694\n",
      "[Epoch: 8] loss: 27.668\n",
      "[Epoch: 9] loss: 26.806\n",
      "[Epoch: 10] loss: 25.602\n",
      "[Epoch: 11] loss: 24.431\n",
      "[Epoch: 12] loss: 23.611\n",
      "[Epoch: 13] loss: 22.762\n",
      "[Epoch: 14] loss: 22.008\n",
      "[Epoch: 15] loss: 21.615\n",
      "[Epoch: 16] loss: 21.681\n",
      "[Epoch: 17] loss: 22.290\n",
      "[Epoch: 18] loss: 21.652\n",
      "[Epoch: 19] loss: 21.705\n",
      "[Epoch: 20] loss: 21.378\n",
      "[Epoch: 21] loss: 20.638\n",
      "[Epoch: 22] loss: 20.552\n",
      "[Epoch: 23] loss: 20.965\n",
      "[Epoch: 24] loss: 21.370\n",
      "[Epoch: 25] loss: 21.878\n",
      "[Epoch: 26] loss: 21.870\n",
      "[Epoch: 27] loss: 22.162\n",
      "[Epoch: 28] loss: 22.515\n",
      "[Epoch: 29] loss: 21.751\n",
      "[Epoch: 30] loss: 21.835\n",
      "[Epoch: 31] loss: 22.799\n",
      "[Epoch: 32] loss: 21.625\n",
      "[Epoch: 33] loss: 21.588\n",
      "[Epoch: 34] loss: 22.230\n",
      "[Epoch: 35] loss: 21.854\n",
      "[Epoch: 36] loss: 22.314\n",
      "[Epoch: 37] loss: 23.805\n",
      "[Epoch: 38] loss: 22.308\n",
      "[Epoch: 39] loss: 22.868\n",
      "[Epoch: 40] loss: 24.101\n",
      "batch size: 100\n",
      "[Epoch: 41] loss: 23.597\n",
      "[Epoch: 42] loss: 21.176\n",
      "[Epoch: 43] loss: 20.486\n",
      "[Epoch: 44] loss: 19.421\n",
      "[Epoch: 45] loss: 19.280\n",
      "[Epoch: 46] loss: 18.884\n",
      "[Epoch: 47] loss: 19.097\n",
      "[Epoch: 48] loss: 18.292\n",
      "[Epoch: 49] loss: 18.128\n",
      "[Epoch: 50] loss: 18.037\n",
      "[Epoch: 51] loss: 18.466\n",
      "[Epoch: 52] loss: 18.037\n",
      "[Epoch: 53] loss: 18.002\n",
      "[Epoch: 54] loss: 17.723\n",
      "[Epoch: 55] loss: 17.538\n",
      "[Epoch: 56] loss: 17.953\n",
      "[Epoch: 57] loss: 17.565\n",
      "[Epoch: 58] loss: 17.889\n",
      "[Epoch: 59] loss: 17.680\n",
      "[Epoch: 60] loss: 17.365\n",
      "[Epoch: 61] loss: 18.014\n",
      "[Epoch: 62] loss: 18.072\n",
      "[Epoch: 63] loss: 17.604\n",
      "[Epoch: 64] loss: 16.669\n",
      "[Epoch: 65] loss: 17.134\n",
      "[Epoch: 66] loss: 16.952\n",
      "[Epoch: 67] loss: 17.265\n",
      "[Epoch: 68] loss: 17.178\n",
      "[Epoch: 69] loss: 16.954\n",
      "[Epoch: 70] loss: 16.746\n",
      "[Epoch: 71] loss: 16.851\n",
      "[Epoch: 72] loss: 16.729\n",
      "[Epoch: 73] loss: 16.371\n",
      "[Epoch: 74] loss: 16.944\n",
      "[Epoch: 75] loss: 16.843\n",
      "[Epoch: 76] loss: 16.671\n",
      "[Epoch: 77] loss: 16.188\n",
      "[Epoch: 78] loss: 16.347\n",
      "[Epoch: 79] loss: 16.253\n",
      "[Epoch: 80] loss: 16.534\n",
      "batch size: 200\n",
      "[Epoch: 81] loss: 15.306\n",
      "[Epoch: 82] loss: 14.972\n",
      "[Epoch: 83] loss: 14.953\n",
      "[Epoch: 84] loss: 14.772\n",
      "[Epoch: 85] loss: 14.682\n",
      "[Epoch: 86] loss: 14.428\n",
      "[Epoch: 87] loss: 14.264\n",
      "[Epoch: 88] loss: 14.074\n",
      "[Epoch: 89] loss: 14.147\n",
      "[Epoch: 90] loss: 14.326\n",
      "[Epoch: 91] loss: 13.940\n",
      "[Epoch: 92] loss: 13.676\n",
      "[Epoch: 93] loss: 13.825\n",
      "[Epoch: 94] loss: 13.789\n",
      "[Epoch: 95] loss: 13.331\n",
      "[Epoch: 96] loss: 13.373\n",
      "[Epoch: 97] loss: 13.338\n",
      "[Epoch: 98] loss: 13.289\n",
      "[Epoch: 99] loss: 13.205\n",
      "[Epoch: 100] loss: 13.080\n",
      "[Epoch: 101] loss: 13.112\n",
      "[Epoch: 102] loss: 13.149\n",
      "[Epoch: 103] loss: 12.987\n",
      "[Epoch: 104] loss: 12.951\n",
      "[Epoch: 105] loss: 12.840\n",
      "[Epoch: 106] loss: 12.742\n",
      "[Epoch: 107] loss: 12.664\n",
      "[Epoch: 108] loss: 12.663\n",
      "[Epoch: 109] loss: 12.860\n",
      "[Epoch: 110] loss: 12.567\n",
      "[Epoch: 111] loss: 12.513\n",
      "[Epoch: 112] loss: 12.594\n",
      "[Epoch: 113] loss: 12.587\n",
      "[Epoch: 114] loss: 12.421\n",
      "[Epoch: 115] loss: 12.605\n",
      "[Epoch: 116] loss: 12.399\n",
      "[Epoch: 117] loss: 12.359\n",
      "[Epoch: 118] loss: 12.219\n",
      "[Epoch: 119] loss: 12.051\n",
      "[Epoch: 120] loss: 12.229\n",
      "batch size: 400\n",
      "[Epoch: 121] loss: 11.803\n",
      "[Epoch: 122] loss: 11.642\n",
      "[Epoch: 123] loss: 11.597\n",
      "[Epoch: 124] loss: 11.549\n",
      "[Epoch: 125] loss: 11.526\n",
      "[Epoch: 126] loss: 11.452\n",
      "[Epoch: 127] loss: 11.490\n",
      "[Epoch: 128] loss: 11.489\n",
      "[Epoch: 129] loss: 11.479\n",
      "[Epoch: 130] loss: 11.470\n",
      "[Epoch: 131] loss: 11.268\n",
      "[Epoch: 132] loss: 11.331\n",
      "[Epoch: 133] loss: 11.290\n",
      "[Epoch: 134] loss: 11.206\n",
      "[Epoch: 135] loss: 11.277\n",
      "[Epoch: 136] loss: 11.190\n",
      "[Epoch: 137] loss: 11.223\n",
      "[Epoch: 138] loss: 11.194\n",
      "[Epoch: 139] loss: 11.210\n",
      "[Epoch: 140] loss: 11.205\n",
      "[Epoch: 141] loss: 11.161\n",
      "[Epoch: 142] loss: 11.038\n",
      "[Epoch: 143] loss: 11.114\n",
      "[Epoch: 144] loss: 11.062\n",
      "[Epoch: 145] loss: 10.983\n",
      "[Epoch: 146] loss: 11.111\n",
      "[Epoch: 147] loss: 10.957\n",
      "[Epoch: 148] loss: 11.033\n",
      "[Epoch: 149] loss: 10.943\n",
      "[Epoch: 150] loss: 10.983\n",
      "[Epoch: 151] loss: 10.874\n",
      "[Epoch: 152] loss: 10.950\n",
      "[Epoch: 153] loss: 10.877\n",
      "[Epoch: 154] loss: 10.787\n",
      "[Epoch: 155] loss: 10.821\n",
      "[Epoch: 156] loss: 10.793\n",
      "[Epoch: 157] loss: 10.890\n",
      "[Epoch: 158] loss: 10.773\n",
      "[Epoch: 159] loss: 10.839\n",
      "[Epoch: 160] loss: 10.779\n",
      "batch size: 800\n",
      "[Epoch: 161] loss: 10.812\n",
      "[Epoch: 162] loss: 10.761\n",
      "[Epoch: 163] loss: 10.762\n",
      "[Epoch: 164] loss: 10.695\n",
      "[Epoch: 165] loss: 10.624\n",
      "[Epoch: 166] loss: 10.703\n",
      "[Epoch: 167] loss: 10.689\n",
      "[Epoch: 168] loss: 10.635\n",
      "[Epoch: 169] loss: 10.643\n",
      "[Epoch: 170] loss: 10.714\n",
      "[Epoch: 171] loss: 10.607\n",
      "[Epoch: 172] loss: 10.689\n",
      "[Epoch: 173] loss: 10.558\n",
      "[Epoch: 174] loss: 10.553\n",
      "[Epoch: 175] loss: 10.548\n",
      "[Epoch: 176] loss: 10.560\n",
      "[Epoch: 177] loss: 10.589\n",
      "[Epoch: 178] loss: 10.513\n",
      "[Epoch: 179] loss: 10.540\n",
      "[Epoch: 180] loss: 10.540\n",
      "[Epoch: 181] loss: 10.606\n",
      "[Epoch: 182] loss: 10.530\n",
      "[Epoch: 183] loss: 10.503\n",
      "[Epoch: 184] loss: 10.519\n",
      "[Epoch: 185] loss: 10.438\n",
      "[Epoch: 186] loss: 10.521\n",
      "[Epoch: 187] loss: 10.384\n",
      "[Epoch: 188] loss: 10.424\n",
      "[Epoch: 189] loss: 10.500\n",
      "[Epoch: 190] loss: 10.405\n",
      "[Epoch: 191] loss: 10.410\n",
      "[Epoch: 192] loss: 10.362\n",
      "[Epoch: 193] loss: 10.406\n",
      "[Epoch: 194] loss: 10.402\n",
      "[Epoch: 195] loss: 10.395\n",
      "[Epoch: 196] loss: 10.458\n",
      "[Epoch: 197] loss: 10.395\n",
      "[Epoch: 198] loss: 10.378\n",
      "[Epoch: 199] loss: 10.316\n",
      "[Epoch: 200] loss: 10.311\n",
      "batch size: 800\n",
      "[Epoch: 201] loss: 10.287\n",
      "[Epoch: 202] loss: 10.294\n",
      "[Epoch: 203] loss: 10.309\n",
      "[Epoch: 204] loss: 10.309\n",
      "[Epoch: 205] loss: 10.259\n",
      "[Epoch: 206] loss: 10.216\n",
      "[Epoch: 207] loss: 10.241\n",
      "[Epoch: 208] loss: 10.262\n",
      "[Epoch: 209] loss: 10.219\n",
      "[Epoch: 210] loss: 10.268\n",
      "[Epoch: 211] loss: 10.247\n",
      "[Epoch: 212] loss: 10.205\n",
      "[Epoch: 213] loss: 10.258\n",
      "[Epoch: 214] loss: 10.195\n",
      "[Epoch: 215] loss: 10.208\n",
      "[Epoch: 216] loss: 10.243\n",
      "[Epoch: 217] loss: 10.146\n",
      "[Epoch: 218] loss: 10.176\n",
      "[Epoch: 219] loss: 10.114\n",
      "[Epoch: 220] loss: 10.162\n",
      "[Epoch: 221] loss: 10.107\n",
      "[Epoch: 222] loss: 10.107\n",
      "[Epoch: 223] loss: 10.128\n",
      "[Epoch: 224] loss: 10.130\n",
      "[Epoch: 225] loss: 10.107\n",
      "[Epoch: 226] loss: 10.029\n",
      "[Epoch: 227] loss: 10.128\n",
      "[Epoch: 228] loss: 10.065\n",
      "[Epoch: 229] loss: 9.994\n",
      "[Epoch: 230] loss: 9.997\n",
      "[Epoch: 231] loss: 10.018\n",
      "[Epoch: 232] loss: 10.059\n",
      "[Epoch: 233] loss: 10.073\n",
      "[Epoch: 234] loss: 9.999\n",
      "[Epoch: 235] loss: 10.046\n",
      "[Epoch: 236] loss: 10.019\n",
      "[Epoch: 237] loss: 10.088\n",
      "[Epoch: 238] loss: 9.954\n",
      "[Epoch: 239] loss: 9.908\n",
      "[Epoch: 240] loss: 9.999\n",
      "batch size: 800\n",
      "[Epoch: 241] loss: 9.959\n",
      "[Epoch: 242] loss: 9.893\n",
      "[Epoch: 243] loss: 9.923\n",
      "[Epoch: 244] loss: 9.891\n",
      "[Epoch: 245] loss: 9.946\n",
      "[Epoch: 246] loss: 9.901\n",
      "[Epoch: 247] loss: 9.874\n",
      "[Epoch: 248] loss: 9.856\n",
      "[Epoch: 249] loss: 9.853\n",
      "[Epoch: 250] loss: 9.890\n",
      "[Epoch: 251] loss: 9.830\n",
      "[Epoch: 252] loss: 9.904\n",
      "[Epoch: 253] loss: 9.844\n",
      "[Epoch: 254] loss: 9.845\n",
      "[Epoch: 255] loss: 9.834\n",
      "[Epoch: 256] loss: 9.759\n",
      "[Epoch: 257] loss: 9.850\n",
      "[Epoch: 258] loss: 9.883\n",
      "[Epoch: 259] loss: 9.760\n",
      "[Epoch: 260] loss: 9.802\n",
      "[Epoch: 261] loss: 9.756\n",
      "[Epoch: 262] loss: 9.761\n",
      "[Epoch: 263] loss: 9.712\n",
      "[Epoch: 264] loss: 9.703\n",
      "[Epoch: 265] loss: 9.723\n",
      "[Epoch: 266] loss: 9.727\n",
      "[Epoch: 267] loss: 9.751\n",
      "[Epoch: 268] loss: 9.802\n",
      "[Epoch: 269] loss: 9.755\n",
      "[Epoch: 270] loss: 9.694\n",
      "[Epoch: 271] loss: 9.694\n",
      "[Epoch: 272] loss: 9.762\n",
      "[Epoch: 273] loss: 9.784\n",
      "[Epoch: 274] loss: 9.732\n",
      "[Epoch: 275] loss: 9.662\n",
      "[Epoch: 276] loss: 9.678\n",
      "[Epoch: 277] loss: 9.662\n",
      "[Epoch: 278] loss: 9.715\n",
      "[Epoch: 279] loss: 9.667\n",
      "[Epoch: 280] loss: 9.645\n",
      "batch size: 800\n",
      "[Epoch: 281] loss: 9.650\n",
      "[Epoch: 282] loss: 9.561\n",
      "[Epoch: 283] loss: 9.610\n",
      "[Epoch: 284] loss: 9.563\n",
      "[Epoch: 285] loss: 9.628\n",
      "[Epoch: 286] loss: 9.622\n",
      "[Epoch: 287] loss: 9.550\n",
      "[Epoch: 288] loss: 9.607\n",
      "[Epoch: 289] loss: 9.545\n",
      "[Epoch: 290] loss: 9.516\n",
      "[Epoch: 291] loss: 9.524\n",
      "[Epoch: 292] loss: 9.524\n",
      "[Epoch: 293] loss: 9.525\n",
      "[Epoch: 294] loss: 9.558\n",
      "[Epoch: 295] loss: 9.467\n",
      "[Epoch: 296] loss: 9.509\n",
      "[Epoch: 297] loss: 9.526\n",
      "[Epoch: 298] loss: 9.554\n",
      "[Epoch: 299] loss: 9.486\n",
      "[Epoch: 300] loss: 9.587\n",
      "Finished Training\n"
     ]
    }
   ],
   "source": [
    "#test variable batch size\n",
    "batch_size = 50\n",
    "epochs = 300\n",
    "track_loss = []\n",
    "for epoch in range(epochs):  # loop over the dataset multiple times\n",
    "    running_loss = 0.0\n",
    "    if epoch > 0 and epoch%40==0:\n",
    "        if batch_size < 800:\n",
    "            batch_size *= 2\n",
    "        print(\"batch size:\", batch_size)\n",
    "    for i in range(0, len(X_train), batch_size):\n",
    "        # get the inputs; data is a list of [inputs, labels]\n",
    "        # print(i)\n",
    "        inputs = torch.FloatTensor(X_train[i:i+batch_size])\n",
    "        labels = torch.LongTensor(Y_train[i:i+batch_size])\n",
    "        \n",
    "        # print(labels)\n",
    "        \n",
    "        # zero the parameter gradients\n",
    "        optimizer.zero_grad()\n",
    "\n",
    "        # forward + backward + optimize\n",
    "        outputs = net(inputs)\n",
    "        loss = criterion(outputs, labels)\n",
    "        loss.backward()\n",
    "        optimizer.step()\n",
    "\n",
    "        # print statistics\n",
    "        running_loss += loss.item()\n",
    "    track_loss.append(running_loss * batch_size / 1000)\n",
    "    print('[Epoch: %d] loss: %.3f' % (epoch + 1, running_loss * batch_size / 1000))\n",
    "    \n",
    "\n",
    "print('Finished Training')"
   ]
  },
  {
   "cell_type": "code",
   "execution_count": 19,
   "metadata": {},
   "outputs": [
    {
     "data": {
      "text/plain": [
       "Text(0.5, 1.0, 'Pose Training loss')"
      ]
     },
     "execution_count": 19,
     "metadata": {},
     "output_type": "execute_result"
    },
    {
     "data": {
      "image/png": "[encoded data removed]",
      "text/plain": [
       "<Figure size 432x288 with 1 Axes>"
      ]
     },
     "metadata": {
      "needs_background": "light"
     },
     "output_type": "display_data"
    }
   ],
   "source": [
    "outputs = net(torch.FloatTensor(X_test))\n",
    "_, predicted = torch.max(outputs, 1)\n",
    "track_loss\n",
    "x = [i for i in range(epochs)]\n",
    "plt.plot(x, track_loss)\n",
    "plt.xlabel(\"epochs\")\n",
    "plt.ylabel(\"loss\")\n",
    "plt.title(\"Pose Training loss\")"
   ]
  },
  {
   "cell_type": "code",
   "execution_count": 20,
   "metadata": {},
   "outputs": [
    {
     "name": "stdout",
     "output_type": "stream",
     "text": [
      "Predicted:  Drinking Reaching Behind Safe driving Safe driving Texting - left Drinking Safe driving Talking on the phone - right Reaching Behind Safe driving\n"
     ]
    }
   ],
   "source": [
    "classes = ('Safe driving', 'Texting - right', 'Talking on the phone - right', 'Texting - left',\n",
    "           'Talking on the phone - left', 'Operating the radio', 'Drinking', 'Reaching Behind', 'Hair and makeup', 'Talking to Passenger')\n",
    "print('Predicted: ', ' '.join('%5s' % classes[predicted[j]]\n",
    "                              for j in range(10)))"
   ]
  },
  {
   "cell_type": "code",
   "execution_count": 21,
   "metadata": {
    "scrolled": true
   },
   "outputs": [
    {
     "name": "stdout",
     "output_type": "stream",
     "text": [
      "0.8423755302522885\n"
     ]
    }
   ],
   "source": [
    "count = 0\n",
    "for i in range(len(Y_test)):\n",
    "    if Y_test[i] == predicted[i]:\n",
    "        count+=1\n",
    "print(count/len(Y_test))\n"
   ]
  },
  {
   "cell_type": "code",
   "execution_count": 16,
   "metadata": {},
   "outputs": [
    {
     "name": "stdout",
     "output_type": "stream",
     "text": [
      "Accuracy of Safe driving : 93 %\n",
      "Accuracy of Texting - right : 90 %\n",
      "Accuracy of Talking on the phone - right : 93 %\n",
      "Accuracy of Texting - left : 94 %\n",
      "Accuracy of Talking on the phone - left : 93 %\n",
      "Accuracy of Operating the radio : 92 %\n",
      "Accuracy of Drinking : 70 %\n",
      "Accuracy of Reaching Behind : 97 %\n",
      "Accuracy of Hair and makeup : 55 %\n",
      "Accuracy of Talking to Passenger : 72 %\n"
     ]
    }
   ],
   "source": [
    "class_correct = list(0. for i in range(10))\n",
    "class_total = list(0. for i in range(10))\n",
    "\n",
    "for i in range(len(Y_test)):\n",
    "    label = Y_test[i]\n",
    "    if Y_test[i] == predicted[i]:\n",
    "        class_correct[label] += 1\n",
    "    class_total[label] += 1\n",
    "for i in range(10):\n",
    "    print('Accuracy of %5s : %2d %%' % (\n",
    "        classes[i], 100 * class_correct[i] / class_total[i]))"
   ]
  },
  {
   "cell_type": "code",
   "execution_count": 443,
   "metadata": {},
   "outputs": [
    {
     "data": {
      "text/plain": [
       "array([[427,   1,   1,  10,   1,   4,   0,   0,   2,  14],\n",
       "       [  3, 471,   3,   0,   1,   1,  18,   1,   2,   2],\n",
       "       [  0,   0, 443,   0,   0,   0,  15,   5,  24,   0],\n",
       "       [  7,   0,   2, 446,  14,   2,   0,   1,   1,   5],\n",
       "       [  4,   0,   0,  17, 396,   3,   0,   1,  13,   0],\n",
       "       [  4,   1,   4,   3,   0, 433,   0,   0,   1,   0],\n",
       "       [  0,  21,  23,   0,   0,   0, 363,   1,  36,   0],\n",
       "       [  1,   2,   2,   0,   0,   1,   0, 409,   1,   2],\n",
       "       [ 16,  13,  70,   1,  18,   0,  38,  15, 230,   2],\n",
       "       [ 64,   5,   0,   3,   1,   5,   0,   3,   1, 325]])"
      ]
     },
     "execution_count": 443,
     "metadata": {},
     "output_type": "execute_result"
    }
   ],
   "source": [
    "sklearn.metrics.confusion_matrix(Y_test, predicted)"
   ]
  }
 ],
 "metadata": {
  "kernelspec": {
   "display_name": "Python 3",
   "language": "python",
   "name": "python3"
  },
  "language_info": {
   "codemirror_mode": {
    "name": "ipython",
    "version": 3
   },
   "file_extension": ".py",
   "mimetype": "text/x-python",
   "name": "python",
   "nbconvert_exporter": "python",
   "pygments_lexer": "ipython3",
   "version": "3.7.5"
  }
 },
 "nbformat": 4,
 "nbformat_minor": 2
}
