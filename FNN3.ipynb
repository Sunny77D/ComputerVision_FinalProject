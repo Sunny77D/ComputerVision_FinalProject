{
 "cells": [
  {
   "cell_type": "code",
   "execution_count": 10,
   "metadata": {},
   "outputs": [],
   "source": [
    "import torch\n",
    "import torch.nn as nn\n",
    "import torch.nn.functional as F\n",
    "import torch.optim as optim\n",
    "import torchvision.transforms as transforms\n",
    "from torchvision import datasets, models\n",
    "import torch.optim as optim\n",
    "from torch.optim import lr_scheduler\n",
    "from torch.autograd import Variable\n",
    "import matplotlib.pyplot as plt"
   ]
  },
  {
   "cell_type": "code",
   "execution_count": 2,
   "metadata": {},
   "outputs": [
    {
     "name": "stderr",
     "output_type": "stream",
     "text": [
      "Using TensorFlow backend.\n"
     ]
    }
   ],
   "source": [
    "import os\n",
    "from glob import glob\n",
    "import random\n",
    "import time\n",
    "import datetime\n",
    "os.environ['KERAS_BACKEND'] = 'tensorflow'\n",
    "os.environ['TF_CPP_MIN_LOG_LEVEL'] = '3' # 3 = INFO, WARNING, and ERROR messages are not printed\n",
    "\n",
    "from tqdm import tqdm\n",
    "\n",
    "import numpy as np\n",
    "import pandas as pd\n",
    "from IPython.display import FileLink\n",
    "import matplotlib.pyplot as plt\n",
    "import warnings\n",
    "warnings.filterwarnings('ignore')\n",
    "import seaborn as sns \n",
    "%matplotlib inline\n",
    "from IPython.display import display, Image\n",
    "import matplotlib.image as mpimg\n",
    "import cv2\n",
    "\n",
    "from sklearn.model_selection import train_test_split\n",
    "from sklearn.datasets import load_files       \n",
    "from keras.utils import np_utils\n",
    "from sklearn.utils import shuffle\n",
    "from sklearn.metrics import log_loss\n",
    "\n",
    "from keras.models import Sequential, Model\n",
    "from keras.layers import Conv2D, MaxPooling2D, Flatten, Dense, Dropout, BatchNormalization, GlobalAveragePooling2D\n",
    "from keras.preprocessing.image import ImageDataGenerator\n",
    "from keras.preprocessing import image\n",
    "from keras.callbacks import ModelCheckpoint, EarlyStopping\n",
    "from keras.applications.vgg16 import VGG16\n",
    "\n",
    "#our additions\n",
    "import json\n",
    "import sklearn"
   ]
  },
  {
   "cell_type": "code",
   "execution_count": 4,
   "metadata": {},
   "outputs": [],
   "source": [
    "# Load the dataset previously downloaded from Kaggle\n",
    "NUMBER_CLASSES = 10\n",
    "\n",
    "def load_train():\n",
    "    start_time = time.time()\n",
    "    train_pose = [] \n",
    "    train_labels = []\n",
    "    # Loop over the training folder \n",
    "    for classed in tqdm(range(NUMBER_CLASSES)):\n",
    "        print('Loading directory c{}'.format(classed))\n",
    "        files = glob(os.path.join('..', 'sample_json', 'c' + str(classed), '*.json'))\n",
    "        for file in files:\n",
    "            jsonFile = open(file, 'r')\n",
    "            try: \n",
    "                values = json.load(jsonFile)['people'][0]['pose_keypoints_2d']\n",
    "            except IndexError: \n",
    "                continue\n",
    "            #print(values)\n",
    "            #print(len(values))\n",
    "            train_pose.append(values)\n",
    "            train_labels.append(classed)\n",
    "    print(\"Data Loaded in {} second\".format(time.time() - start_time))\n",
    "    return train_pose, train_labels "
   ]
  },
  {
   "cell_type": "code",
   "execution_count": 5,
   "metadata": {},
   "outputs": [
    {
     "name": "stderr",
     "output_type": "stream",
     "text": [
      "\r",
      "  0%|          | 0/10 [00:00<?, ?it/s]"
     ]
    },
    {
     "name": "stdout",
     "output_type": "stream",
     "text": [
      "Loading directory c0\n"
     ]
    },
    {
     "name": "stderr",
     "output_type": "stream",
     "text": [
      "\r",
      " 10%|█         | 1/10 [00:00<00:03,  2.62it/s]"
     ]
    },
    {
     "name": "stdout",
     "output_type": "stream",
     "text": [
      "Loading directory c1\n"
     ]
    },
    {
     "name": "stderr",
     "output_type": "stream",
     "text": [
      "\r",
      " 20%|██        | 2/10 [00:00<00:02,  2.80it/s]"
     ]
    },
    {
     "name": "stdout",
     "output_type": "stream",
     "text": [
      "Loading directory c2\n"
     ]
    },
    {
     "name": "stderr",
     "output_type": "stream",
     "text": [
      "\r",
      " 30%|███       | 3/10 [00:01<00:02,  2.77it/s]"
     ]
    },
    {
     "name": "stdout",
     "output_type": "stream",
     "text": [
      "Loading directory c3\n"
     ]
    },
    {
     "name": "stderr",
     "output_type": "stream",
     "text": [
      "\r",
      " 40%|████      | 4/10 [00:01<00:02,  2.63it/s]"
     ]
    },
    {
     "name": "stdout",
     "output_type": "stream",
     "text": [
      "Loading directory c4\n"
     ]
    },
    {
     "name": "stderr",
     "output_type": "stream",
     "text": [
      "\r",
      " 50%|█████     | 5/10 [00:01<00:01,  2.69it/s]"
     ]
    },
    {
     "name": "stdout",
     "output_type": "stream",
     "text": [
      "Loading directory c5\n"
     ]
    },
    {
     "name": "stderr",
     "output_type": "stream",
     "text": [
      "\r",
      " 60%|██████    | 6/10 [00:02<00:01,  2.70it/s]"
     ]
    },
    {
     "name": "stdout",
     "output_type": "stream",
     "text": [
      "Loading directory c6\n"
     ]
    },
    {
     "name": "stderr",
     "output_type": "stream",
     "text": [
      "\r",
      " 70%|███████   | 7/10 [00:02<00:01,  2.71it/s]"
     ]
    },
    {
     "name": "stdout",
     "output_type": "stream",
     "text": [
      "Loading directory c7\n"
     ]
    },
    {
     "name": "stderr",
     "output_type": "stream",
     "text": [
      "\r",
      " 80%|████████  | 8/10 [00:02<00:00,  2.86it/s]"
     ]
    },
    {
     "name": "stdout",
     "output_type": "stream",
     "text": [
      "Loading directory c8\n"
     ]
    },
    {
     "name": "stderr",
     "output_type": "stream",
     "text": [
      "\r",
      " 90%|█████████ | 9/10 [00:03<00:00,  3.08it/s]"
     ]
    },
    {
     "name": "stdout",
     "output_type": "stream",
     "text": [
      "Loading directory c9\n"
     ]
    },
    {
     "name": "stderr",
     "output_type": "stream",
     "text": [
      "100%|██████████| 10/10 [00:03<00:00,  2.92it/s]\n"
     ]
    },
    {
     "name": "stdout",
     "output_type": "stream",
     "text": [
      "Data Loaded in 3.434006929397583 second\n"
     ]
    }
   ],
   "source": [
    "train_pose, train_labels = load_train()\n",
    "# train_labels            = np_utils.to_categorical(train_labels, 10)"
   ]
  },
  {
   "cell_type": "code",
   "execution_count": 6,
   "metadata": {},
   "outputs": [
    {
     "name": "stdout",
     "output_type": "stream",
     "text": [
      "22394\n",
      "22394\n"
     ]
    }
   ],
   "source": [
    "print(len(train_pose))\n",
    "print(len(train_labels))"
   ]
  },
  {
   "cell_type": "code",
   "execution_count": 423,
   "metadata": {},
   "outputs": [],
   "source": [
    "#randomly assign train and validation sets 80/20 split\n",
    "X_train, X_test, Y_train, Y_test = train_test_split(train_pose, train_labels, test_size= 0.2, random_state=42)"
   ]
  },
  {
   "cell_type": "code",
   "execution_count": 424,
   "metadata": {},
   "outputs": [
    {
     "name": "stdout",
     "output_type": "stream",
     "text": [
      "[5, 7, 3, 4, 2, 1, 2, 3, 0, 8]\n"
     ]
    }
   ],
   "source": [
    "print((Y_train[:10]))"
   ]
  },
  {
   "cell_type": "code",
   "execution_count": 425,
   "metadata": {},
   "outputs": [],
   "source": [
    "class Net(nn.Module):\n",
    "\n",
    "    def __init__(self):\n",
    "        super(Net, self).__init__()\n",
    "        self.hidden = nn.Linear(75, 50)\n",
    "        self.hidden2 = nn.Linear(50, 25)\n",
    "        self.output = nn.Linear(25, 10)\n",
    "        self.sigmoid = nn.Sigmoid()\n",
    "        \n",
    "    def forward(self, x):\n",
    "        x = self.hidden(x)\n",
    "        x = self.sigmoid(x)\n",
    "        x = self.hidden2(x)\n",
    "        x = self.sigmoid(x)\n",
    "        x = self.output(x)\n",
    "        return x\n"
   ]
  },
  {
   "cell_type": "code",
   "execution_count": 426,
   "metadata": {},
   "outputs": [],
   "source": [
    "class Net(nn.Module):\n",
    "    def __init__(self):\n",
    "        super(Net, self).__init__()\n",
    "        self.hidden = nn.Linear(75, 150)\n",
    "        self.hidden2 = nn.Linear(150, 100)\n",
    "        self.hidden3 = nn.Linear(100, 30)\n",
    "        self.output = nn.Linear(30, 10)\n",
    "        self.sigmoid = nn.Sigmoid()\n",
    "        self.tanh    = nn.Tanh() \n",
    "        \n",
    "    def forward(self, x, cnn_data):\n",
    "        x = self.hidden(x)\n",
    "        x = self.sigmoid(x)\n",
    "        x = self.hidden2(x)\n",
    "        x = self.tanh(x)\n",
    "        x = self.hidden3(x)\n",
    "        x = F.tanh(x)\n",
    "        x = np.concatenate((x, cnn_data), axis=1)\n",
    "        x = np.hidden4(x)\n",
    "        \n",
    "        x = self.output(x)\n",
    "        return x"
   ]
  },
  {
   "cell_type": "code",
   "execution_count": 434,
   "metadata": {},
   "outputs": [],
   "source": [
    "net = Net()\n",
    "\n",
    "criterion = nn.CrossEntropyLoss()\n",
    "optimizer = optim.SGD(net.parameters(), lr=0.001, momentum=.5)"
   ]
  },
  {
   "cell_type": "code",
   "execution_count": 435,
   "metadata": {},
   "outputs": [
    {
     "name": "stdout",
     "output_type": "stream",
     "text": [
      "[Epoch: 1] loss: 41.193\n",
      "[Epoch: 2] loss: 40.841\n",
      "[Epoch: 3] loss: 40.501\n",
      "[Epoch: 4] loss: 40.110\n",
      "[Epoch: 5] loss: 39.549\n",
      "[Epoch: 6] loss: 38.738\n",
      "[Epoch: 7] loss: 37.520\n",
      "[Epoch: 8] loss: 35.887\n",
      "[Epoch: 9] loss: 34.126\n",
      "[Epoch: 10] loss: 32.552\n",
      "[Epoch: 11] loss: 31.257\n",
      "[Epoch: 12] loss: 30.198\n",
      "[Epoch: 13] loss: 29.322\n",
      "[Epoch: 14] loss: 28.544\n",
      "[Epoch: 15] loss: 27.792\n",
      "[Epoch: 16] loss: 27.082\n",
      "[Epoch: 17] loss: 26.336\n",
      "[Epoch: 18] loss: 25.595\n",
      "[Epoch: 19] loss: 24.766\n",
      "[Epoch: 20] loss: 23.894\n",
      "[Epoch: 21] loss: 23.028\n",
      "[Epoch: 22] loss: 22.175\n",
      "[Epoch: 23] loss: 21.309\n",
      "[Epoch: 24] loss: 20.590\n",
      "[Epoch: 25] loss: 20.004\n",
      "[Epoch: 26] loss: 19.452\n",
      "[Epoch: 27] loss: 18.918\n",
      "[Epoch: 28] loss: 18.502\n",
      "[Epoch: 29] loss: 18.120\n",
      "[Epoch: 30] loss: 17.823\n",
      "[Epoch: 31] loss: 17.383\n",
      "[Epoch: 32] loss: 16.962\n",
      "[Epoch: 33] loss: 16.678\n",
      "[Epoch: 34] loss: 16.392\n",
      "[Epoch: 35] loss: 16.021\n",
      "[Epoch: 36] loss: 15.710\n",
      "[Epoch: 37] loss: 15.411\n",
      "[Epoch: 38] loss: 15.560\n",
      "[Epoch: 39] loss: 15.474\n",
      "[Epoch: 40] loss: 15.270\n",
      "batch size: 100\n",
      "[Epoch: 41] loss: 14.094\n",
      "[Epoch: 42] loss: 13.650\n",
      "[Epoch: 43] loss: 13.392\n",
      "[Epoch: 44] loss: 13.322\n",
      "[Epoch: 45] loss: 13.160\n",
      "[Epoch: 46] loss: 12.992\n",
      "[Epoch: 47] loss: 12.812\n",
      "[Epoch: 48] loss: 12.773\n",
      "[Epoch: 49] loss: 12.674\n",
      "[Epoch: 50] loss: 12.575\n",
      "[Epoch: 51] loss: 12.485\n",
      "[Epoch: 52] loss: 12.294\n",
      "[Epoch: 53] loss: 12.280\n",
      "[Epoch: 54] loss: 12.114\n",
      "[Epoch: 55] loss: 11.967\n",
      "[Epoch: 56] loss: 11.905\n",
      "[Epoch: 57] loss: 12.022\n",
      "[Epoch: 58] loss: 11.814\n",
      "[Epoch: 59] loss: 11.720\n",
      "[Epoch: 60] loss: 11.894\n",
      "[Epoch: 61] loss: 11.691\n",
      "[Epoch: 62] loss: 11.724\n",
      "[Epoch: 63] loss: 11.709\n",
      "[Epoch: 64] loss: 11.698\n",
      "[Epoch: 65] loss: 11.762\n",
      "[Epoch: 66] loss: 11.558\n",
      "[Epoch: 67] loss: 11.478\n",
      "[Epoch: 68] loss: 11.317\n",
      "[Epoch: 69] loss: 11.326\n",
      "[Epoch: 70] loss: 11.166\n",
      "[Epoch: 71] loss: 11.106\n",
      "[Epoch: 72] loss: 11.182\n",
      "[Epoch: 73] loss: 11.126\n",
      "[Epoch: 74] loss: 11.023\n",
      "[Epoch: 75] loss: 11.057\n",
      "[Epoch: 76] loss: 11.124\n",
      "[Epoch: 77] loss: 11.196\n",
      "[Epoch: 78] loss: 10.769\n",
      "[Epoch: 79] loss: 10.727\n",
      "[Epoch: 80] loss: 10.801\n",
      "batch size: 200\n",
      "[Epoch: 81] loss: 10.235\n",
      "[Epoch: 82] loss: 10.054\n",
      "[Epoch: 83] loss: 9.963\n",
      "[Epoch: 84] loss: 9.899\n",
      "[Epoch: 85] loss: 9.803\n",
      "[Epoch: 86] loss: 9.797\n",
      "[Epoch: 87] loss: 9.703\n",
      "[Epoch: 88] loss: 9.670\n",
      "[Epoch: 89] loss: 9.683\n",
      "[Epoch: 90] loss: 9.657\n",
      "[Epoch: 91] loss: 9.598\n",
      "[Epoch: 92] loss: 9.504\n",
      "[Epoch: 93] loss: 9.473\n",
      "[Epoch: 94] loss: 9.476\n",
      "[Epoch: 95] loss: 9.481\n",
      "[Epoch: 96] loss: 9.412\n",
      "[Epoch: 97] loss: 9.406\n",
      "[Epoch: 98] loss: 9.361\n",
      "[Epoch: 99] loss: 9.281\n",
      "[Epoch: 100] loss: 9.254\n",
      "[Epoch: 101] loss: 9.197\n",
      "[Epoch: 102] loss: 9.228\n",
      "[Epoch: 103] loss: 9.151\n",
      "[Epoch: 104] loss: 9.118\n",
      "[Epoch: 105] loss: 9.145\n",
      "[Epoch: 106] loss: 9.080\n",
      "[Epoch: 107] loss: 9.086\n",
      "[Epoch: 108] loss: 8.995\n",
      "[Epoch: 109] loss: 9.033\n",
      "[Epoch: 110] loss: 8.954\n",
      "[Epoch: 111] loss: 8.911\n",
      "[Epoch: 112] loss: 8.918\n",
      "[Epoch: 113] loss: 8.874\n",
      "[Epoch: 114] loss: 8.869\n",
      "[Epoch: 115] loss: 8.826\n",
      "[Epoch: 116] loss: 8.841\n",
      "[Epoch: 117] loss: 8.780\n",
      "[Epoch: 118] loss: 8.780\n",
      "[Epoch: 119] loss: 8.729\n",
      "[Epoch: 120] loss: 8.704\n",
      "batch size: 400\n",
      "[Epoch: 121] loss: 8.513\n",
      "[Epoch: 122] loss: 8.475\n",
      "[Epoch: 123] loss: 8.440\n",
      "[Epoch: 124] loss: 8.414\n",
      "[Epoch: 125] loss: 8.394\n",
      "[Epoch: 126] loss: 8.394\n",
      "[Epoch: 127] loss: 8.368\n",
      "[Epoch: 128] loss: 8.345\n",
      "[Epoch: 129] loss: 8.332\n",
      "[Epoch: 130] loss: 8.337\n",
      "[Epoch: 131] loss: 8.314\n",
      "[Epoch: 132] loss: 8.294\n",
      "[Epoch: 133] loss: 8.276\n",
      "[Epoch: 134] loss: 8.271\n",
      "[Epoch: 135] loss: 8.239\n",
      "[Epoch: 136] loss: 8.239\n",
      "[Epoch: 137] loss: 8.232\n",
      "[Epoch: 138] loss: 8.227\n",
      "[Epoch: 139] loss: 8.195\n",
      "[Epoch: 140] loss: 8.180\n",
      "[Epoch: 141] loss: 8.161\n",
      "[Epoch: 142] loss: 8.177\n",
      "[Epoch: 143] loss: 8.149\n",
      "[Epoch: 144] loss: 8.139\n",
      "[Epoch: 145] loss: 8.125\n",
      "[Epoch: 146] loss: 8.115\n",
      "[Epoch: 147] loss: 8.101\n",
      "[Epoch: 148] loss: 8.092\n",
      "[Epoch: 149] loss: 8.085\n",
      "[Epoch: 150] loss: 8.078\n",
      "[Epoch: 151] loss: 8.058\n",
      "[Epoch: 152] loss: 8.043\n",
      "[Epoch: 153] loss: 8.027\n",
      "[Epoch: 154] loss: 8.031\n",
      "[Epoch: 155] loss: 8.008\n",
      "[Epoch: 156] loss: 7.988\n",
      "[Epoch: 157] loss: 7.989\n",
      "[Epoch: 158] loss: 7.962\n",
      "[Epoch: 159] loss: 7.954\n",
      "[Epoch: 160] loss: 7.937\n",
      "batch size: 800\n",
      "[Epoch: 161] loss: 8.034\n",
      "[Epoch: 162] loss: 8.010\n",
      "[Epoch: 163] loss: 7.994\n",
      "[Epoch: 164] loss: 7.984\n",
      "[Epoch: 165] loss: 7.974\n",
      "[Epoch: 166] loss: 7.965\n",
      "[Epoch: 167] loss: 7.955\n",
      "[Epoch: 168] loss: 7.944\n",
      "[Epoch: 169] loss: 7.932\n",
      "[Epoch: 170] loss: 7.921\n",
      "[Epoch: 171] loss: 7.913\n",
      "[Epoch: 172] loss: 7.906\n",
      "[Epoch: 173] loss: 7.900\n",
      "[Epoch: 174] loss: 7.893\n",
      "[Epoch: 175] loss: 7.884\n",
      "[Epoch: 176] loss: 7.875\n",
      "[Epoch: 177] loss: 7.868\n",
      "[Epoch: 178] loss: 7.862\n",
      "[Epoch: 179] loss: 7.856\n",
      "[Epoch: 180] loss: 7.850\n",
      "[Epoch: 181] loss: 7.842\n",
      "[Epoch: 182] loss: 7.839\n",
      "[Epoch: 183] loss: 7.833\n",
      "[Epoch: 184] loss: 7.824\n",
      "[Epoch: 185] loss: 7.818\n",
      "[Epoch: 186] loss: 7.810\n",
      "[Epoch: 187] loss: 7.804\n",
      "[Epoch: 188] loss: 7.796\n",
      "[Epoch: 189] loss: 7.790\n",
      "[Epoch: 190] loss: 7.783\n",
      "[Epoch: 191] loss: 7.777\n",
      "[Epoch: 192] loss: 7.771\n",
      "[Epoch: 193] loss: 7.765\n",
      "[Epoch: 194] loss: 7.759\n",
      "[Epoch: 195] loss: 7.753\n",
      "[Epoch: 196] loss: 7.747\n",
      "[Epoch: 197] loss: 7.740\n",
      "[Epoch: 198] loss: 7.731\n",
      "[Epoch: 199] loss: 7.722\n",
      "[Epoch: 200] loss: 7.715\n",
      "batch size: 800\n",
      "[Epoch: 201] loss: 7.709\n",
      "[Epoch: 202] loss: 7.703\n",
      "[Epoch: 203] loss: 7.697\n",
      "[Epoch: 204] loss: 7.691\n",
      "[Epoch: 205] loss: 7.684\n",
      "[Epoch: 206] loss: 7.678\n",
      "[Epoch: 207] loss: 7.672\n",
      "[Epoch: 208] loss: 7.667\n",
      "[Epoch: 209] loss: 7.661\n",
      "[Epoch: 210] loss: 7.656\n",
      "[Epoch: 211] loss: 7.650\n",
      "[Epoch: 212] loss: 7.645\n",
      "[Epoch: 213] loss: 7.640\n",
      "[Epoch: 214] loss: 7.635\n",
      "[Epoch: 215] loss: 7.630\n",
      "[Epoch: 216] loss: 7.625\n",
      "[Epoch: 217] loss: 7.619\n",
      "[Epoch: 218] loss: 7.614\n",
      "[Epoch: 219] loss: 7.608\n",
      "[Epoch: 220] loss: 7.603\n",
      "[Epoch: 221] loss: 7.598\n",
      "[Epoch: 222] loss: 7.589\n",
      "[Epoch: 223] loss: 7.583\n",
      "[Epoch: 224] loss: 7.577\n",
      "[Epoch: 225] loss: 7.570\n",
      "[Epoch: 226] loss: 7.564\n",
      "[Epoch: 227] loss: 7.559\n",
      "[Epoch: 228] loss: 7.553\n",
      "[Epoch: 229] loss: 7.547\n",
      "[Epoch: 230] loss: 7.541\n",
      "[Epoch: 231] loss: 7.535\n",
      "[Epoch: 232] loss: 7.530\n",
      "[Epoch: 233] loss: 7.524\n",
      "[Epoch: 234] loss: 7.519\n",
      "[Epoch: 235] loss: 7.514\n",
      "[Epoch: 236] loss: 7.508\n",
      "[Epoch: 237] loss: 7.503\n",
      "[Epoch: 238] loss: 7.497\n",
      "[Epoch: 239] loss: 7.492\n",
      "[Epoch: 240] loss: 7.486\n",
      "batch size: 800\n",
      "[Epoch: 241] loss: 7.481\n",
      "[Epoch: 242] loss: 7.475\n",
      "[Epoch: 243] loss: 7.469\n",
      "[Epoch: 244] loss: 7.464\n",
      "[Epoch: 245] loss: 7.458\n",
      "[Epoch: 246] loss: 7.453\n",
      "[Epoch: 247] loss: 7.448\n",
      "[Epoch: 248] loss: 7.444\n",
      "[Epoch: 249] loss: 7.439\n",
      "[Epoch: 250] loss: 7.434\n",
      "[Epoch: 251] loss: 7.428\n",
      "[Epoch: 252] loss: 7.423\n",
      "[Epoch: 253] loss: 7.418\n",
      "[Epoch: 254] loss: 7.412\n",
      "[Epoch: 255] loss: 7.407\n",
      "[Epoch: 256] loss: 7.401\n",
      "[Epoch: 257] loss: 7.395\n",
      "[Epoch: 258] loss: 7.390\n",
      "[Epoch: 259] loss: 7.384\n",
      "[Epoch: 260] loss: 7.378\n",
      "[Epoch: 261] loss: 7.373\n",
      "[Epoch: 262] loss: 7.368\n",
      "[Epoch: 263] loss: 7.363\n",
      "[Epoch: 264] loss: 7.358\n",
      "[Epoch: 265] loss: 7.353\n",
      "[Epoch: 266] loss: 7.349\n",
      "[Epoch: 267] loss: 7.347\n",
      "[Epoch: 268] loss: 7.343\n",
      "[Epoch: 269] loss: 7.336\n",
      "[Epoch: 270] loss: 7.329\n",
      "[Epoch: 271] loss: 7.322\n",
      "[Epoch: 272] loss: 7.317\n",
      "[Epoch: 273] loss: 7.311\n",
      "[Epoch: 274] loss: 7.307\n",
      "[Epoch: 275] loss: 7.302\n",
      "[Epoch: 276] loss: 7.298\n",
      "[Epoch: 277] loss: 7.292\n",
      "[Epoch: 278] loss: 7.285\n",
      "[Epoch: 279] loss: 7.279\n",
      "[Epoch: 280] loss: 7.272\n",
      "batch size: 800\n",
      "[Epoch: 281] loss: 7.266\n",
      "[Epoch: 282] loss: 7.260\n",
      "[Epoch: 283] loss: 7.254\n",
      "[Epoch: 284] loss: 7.248\n",
      "[Epoch: 285] loss: 7.243\n",
      "[Epoch: 286] loss: 7.237\n",
      "[Epoch: 287] loss: 7.232\n",
      "[Epoch: 288] loss: 7.227\n",
      "[Epoch: 289] loss: 7.224\n",
      "[Epoch: 290] loss: 7.221\n",
      "[Epoch: 291] loss: 7.210\n",
      "[Epoch: 292] loss: 7.206\n",
      "[Epoch: 293] loss: 7.203\n",
      "[Epoch: 294] loss: 7.197\n",
      "[Epoch: 295] loss: 7.192\n",
      "[Epoch: 296] loss: 7.187\n",
      "[Epoch: 297] loss: 7.181\n",
      "[Epoch: 298] loss: 7.176\n",
      "[Epoch: 299] loss: 7.171\n",
      "[Epoch: 300] loss: 7.165\n",
      "Finished Training\n"
     ]
    }
   ],
   "source": [
    "#test variable batch size\n",
    "batch_size = 50\n",
    "epochs = 300\n",
    "track_loss = []\n",
    "for epoch in range(epochs):  # loop over the dataset multiple times\n",
    "    running_loss = 0.0\n",
    "    if epoch > 0 and epoch%40==0:\n",
    "        if batch_size < 800:\n",
    "            batch_size *= 2\n",
    "        print(\"batch size:\", batch_size)\n",
    "    for i in range(0, len(X_train), batch_size):\n",
    "        # get the inputs; data is a list of [inputs, labels]\n",
    "        # print(i)\n",
    "        inputs = torch.FloatTensor(X_train[i:i+batch_size])\n",
    "        labels = torch.LongTensor(Y_train[i:i+batch_size])\n",
    "        \n",
    "        # print(labels)\n",
    "        \n",
    "        # zero the parameter gradients\n",
    "        optimizer.zero_grad()\n",
    "\n",
    "        # forward + backward + optimize\n",
    "        outputs = net(inputs)\n",
    "        loss = criterion(outputs, labels)\n",
    "        loss.backward()\n",
    "        optimizer.step()\n",
    "\n",
    "        # print statistics\n",
    "        running_loss += loss.item()\n",
    "    track_loss.append(running_loss * batch_size / 1000)\n",
    "    print('[Epoch: %d] loss: %.3f' % (epoch + 1, running_loss * batch_size / 1000))\n",
    "    \n",
    "\n",
    "print('Finished Training')"
   ]
  },
  {
   "cell_type": "code",
   "execution_count": 445,
   "metadata": {},
   "outputs": [
    {
     "data": {
      "text/plain": [
       "Text(0.5, 1.0, 'Pose Training loss')"
      ]
     },
     "execution_count": 445,
     "metadata": {},
     "output_type": "execute_result"
    },
    {
     "data": {
      "image/png": "[encoded data removed]",
      "text/plain": [
       "<Figure size 432x288 with 1 Axes>"
      ]
     },
     "metadata": {
      "needs_background": "light"
     },
     "output_type": "display_data"
    }
   ],
   "source": [
    "outputs = net(torch.FloatTensor(X_test))\n",
    "_, predicted = torch.max(outputs, 1)\n",
    "track_loss\n",
    "x = [i for i in range(epochs)]\n",
    "plt.plot(x, track_loss)\n",
    "plt.xlabel(\"epochs\")\n",
    "plt.ylabel(\"loss\")\n",
    "plt.title(\"Pose Training loss\")"
   ]
  },
  {
   "cell_type": "code",
   "execution_count": 440,
   "metadata": {},
   "outputs": [
    {
     "name": "stdout",
     "output_type": "stream",
     "text": [
      "Predicted:  Drinking Reaching Behind Safe driving Talking to Passenger Texting - left Drinking Safe driving Talking on the phone - right Reaching Behind Safe driving\n"
     ]
    }
   ],
   "source": [
    "classes = ('Safe driving', 'Texting - right', 'Talking on the phone - right', 'Texting - left',\n",
    "           'Talking on the phone - left', 'Operating the radio', 'Drinking', 'Reaching Behind', 'Hair and makeup', 'Talking to Passenger')\n",
    "print('Predicted: ', ' '.join('%5s' % classes[predicted[j]]\n",
    "                              for j in range(10)))"
   ]
  },
  {
   "cell_type": "code",
   "execution_count": 441,
   "metadata": {
    "scrolled": true
   },
   "outputs": [
    {
     "name": "stdout",
     "output_type": "stream",
     "text": [
      "0.8803304308997544\n"
     ]
    }
   ],
   "source": [
    "count = 0\n",
    "for i in range(len(Y_test)):\n",
    "    if Y_test[i] == predicted[i]:\n",
    "        count+=1\n",
    "print(count/len(Y_test))\n"
   ]
  },
  {
   "cell_type": "code",
   "execution_count": 442,
   "metadata": {},
   "outputs": [
    {
     "name": "stdout",
     "output_type": "stream",
     "text": [
      "Accuracy of Safe driving : 92 %\n",
      "Accuracy of Texting - right : 93 %\n",
      "Accuracy of Talking on the phone - right : 90 %\n",
      "Accuracy of Texting - left : 93 %\n",
      "Accuracy of Talking on the phone - left : 91 %\n",
      "Accuracy of Operating the radio : 97 %\n",
      "Accuracy of Drinking : 81 %\n",
      "Accuracy of Reaching Behind : 97 %\n",
      "Accuracy of Hair and makeup : 57 %\n",
      "Accuracy of Talking to Passenger : 79 %\n"
     ]
    }
   ],
   "source": [
    "class_correct = list(0. for i in range(10))\n",
    "class_total = list(0. for i in range(10))\n",
    "\n",
    "for i in range(len(Y_test)):\n",
    "    label = Y_test[i]\n",
    "    if Y_test[i] == predicted[i]:\n",
    "        class_correct[label] += 1\n",
    "    class_total[label] += 1\n",
    "for i in range(10):\n",
    "    print('Accuracy of %5s : %2d %%' % (\n",
    "        classes[i], 100 * class_correct[i] / class_total[i]))"
   ]
  },
  {
   "cell_type": "code",
   "execution_count": 443,
   "metadata": {},
   "outputs": [
    {
     "data": {
      "text/plain": [
       "array([[427,   1,   1,  10,   1,   4,   0,   0,   2,  14],\n",
       "       [  3, 471,   3,   0,   1,   1,  18,   1,   2,   2],\n",
       "       [  0,   0, 443,   0,   0,   0,  15,   5,  24,   0],\n",
       "       [  7,   0,   2, 446,  14,   2,   0,   1,   1,   5],\n",
       "       [  4,   0,   0,  17, 396,   3,   0,   1,  13,   0],\n",
       "       [  4,   1,   4,   3,   0, 433,   0,   0,   1,   0],\n",
       "       [  0,  21,  23,   0,   0,   0, 363,   1,  36,   0],\n",
       "       [  1,   2,   2,   0,   0,   1,   0, 409,   1,   2],\n",
       "       [ 16,  13,  70,   1,  18,   0,  38,  15, 230,   2],\n",
       "       [ 64,   5,   0,   3,   1,   5,   0,   3,   1, 325]])"
      ]
     },
     "execution_count": 443,
     "metadata": {},
     "output_type": "execute_result"
    }
   ],
   "source": [
    "sklearn.metrics.confusion_matrix(Y_test, predicted)"
   ]
  },
  {
   "cell_type": "code",
   "execution_count": 11,
   "metadata": {},
   "outputs": [
    {
     "name": "stderr",
     "output_type": "stream",
     "text": [
      "Downloading: \"https://download.pytorch.org/models/vgg16-397923af.pth\" to C:\\Users\\Son Do/.cache\\torch\\checkpoints\\vgg16-397923af.pth\n",
      "100%|██████████| 528M/528M [01:18<00:00, 7.09MB/s] \n"
     ]
    }
   ],
   "source": [
    "model = models.vgg16(pretrained=True)"
   ]
  },
  {
   "cell_type": "code",
   "execution_count": 18,
   "metadata": {},
   "outputs": [
    {
     "data": {
      "text/plain": [
       "Sequential(\n",
       "  (0): Linear(in_features=25088, out_features=4096, bias=True)\n",
       "  (1): ReLU(inplace=True)\n",
       "  (2): Dropout(p=0.5, inplace=False)\n",
       "  (3): Linear(in_features=4096, out_features=4096, bias=True)\n",
       "  (4): ReLU(inplace=True)\n",
       ")"
      ]
     },
     "execution_count": 18,
     "metadata": {},
     "output_type": "execute_result"
    }
   ],
   "source": [
    "for param in model.parameters():\n",
    "    param.requires_grad = False\n",
    "features = list(model.classifier.children())[:-1] # Remove last layer\n",
    "model.classifier = nn.Sequential(*features)\n",
    "model.classifier"
   ]
  },
  {
   "cell_type": "code",
   "execution_count": 22,
   "metadata": {},
   "outputs": [
    {
     "ename": "FileNotFoundError",
     "evalue": "[Errno 2] File b'../input/driver_imgs_list.csv' does not exist: b'../input/driver_imgs_list.csv'",
     "output_type": "error",
     "traceback": [
      "\u001b[1;31m---------------------------------------------------------------------------\u001b[0m",
      "\u001b[1;31mFileNotFoundError\u001b[0m                         Traceback (most recent call last)",
      "\u001b[1;32m<ipython-input-22-fb1c099dc5d3>\u001b[0m in \u001b[0;36m<module>\u001b[1;34m\u001b[0m\n\u001b[1;32m----> 1\u001b[1;33m \u001b[0mdataset\u001b[0m \u001b[1;33m=\u001b[0m \u001b[0mpd\u001b[0m\u001b[1;33m.\u001b[0m\u001b[0mread_csv\u001b[0m\u001b[1;33m(\u001b[0m\u001b[1;34m'../input/driver_imgs_list.csv'\u001b[0m\u001b[1;33m)\u001b[0m\u001b[1;33m\u001b[0m\u001b[1;33m\u001b[0m\u001b[0m\n\u001b[0m\u001b[0;32m      2\u001b[0m \u001b[0mdataset\u001b[0m\u001b[1;33m.\u001b[0m\u001b[0mhead\u001b[0m\u001b[1;33m(\u001b[0m\u001b[1;36m5\u001b[0m\u001b[1;33m)\u001b[0m\u001b[1;33m\u001b[0m\u001b[1;33m\u001b[0m\u001b[0m\n",
      "\u001b[1;32m~\\Anaconda3\\envs\\nlp\\lib\\site-packages\\pandas\\io\\parsers.py\u001b[0m in \u001b[0;36mparser_f\u001b[1;34m(filepath_or_buffer, sep, delimiter, header, names, index_col, usecols, squeeze, prefix, mangle_dupe_cols, dtype, engine, converters, true_values, false_values, skipinitialspace, skiprows, skipfooter, nrows, na_values, keep_default_na, na_filter, verbose, skip_blank_lines, parse_dates, infer_datetime_format, keep_date_col, date_parser, dayfirst, cache_dates, iterator, chunksize, compression, thousands, decimal, lineterminator, quotechar, quoting, doublequote, escapechar, comment, encoding, dialect, error_bad_lines, warn_bad_lines, delim_whitespace, low_memory, memory_map, float_precision)\u001b[0m\n\u001b[0;32m    683\u001b[0m         )\n\u001b[0;32m    684\u001b[0m \u001b[1;33m\u001b[0m\u001b[0m\n\u001b[1;32m--> 685\u001b[1;33m         \u001b[1;32mreturn\u001b[0m \u001b[0m_read\u001b[0m\u001b[1;33m(\u001b[0m\u001b[0mfilepath_or_buffer\u001b[0m\u001b[1;33m,\u001b[0m \u001b[0mkwds\u001b[0m\u001b[1;33m)\u001b[0m\u001b[1;33m\u001b[0m\u001b[1;33m\u001b[0m\u001b[0m\n\u001b[0m\u001b[0;32m    686\u001b[0m \u001b[1;33m\u001b[0m\u001b[0m\n\u001b[0;32m    687\u001b[0m     \u001b[0mparser_f\u001b[0m\u001b[1;33m.\u001b[0m\u001b[0m__name__\u001b[0m \u001b[1;33m=\u001b[0m \u001b[0mname\u001b[0m\u001b[1;33m\u001b[0m\u001b[1;33m\u001b[0m\u001b[0m\n",
      "\u001b[1;32m~\\Anaconda3\\envs\\nlp\\lib\\site-packages\\pandas\\io\\parsers.py\u001b[0m in \u001b[0;36m_read\u001b[1;34m(filepath_or_buffer, kwds)\u001b[0m\n\u001b[0;32m    455\u001b[0m \u001b[1;33m\u001b[0m\u001b[0m\n\u001b[0;32m    456\u001b[0m     \u001b[1;31m# Create the parser.\u001b[0m\u001b[1;33m\u001b[0m\u001b[1;33m\u001b[0m\u001b[1;33m\u001b[0m\u001b[0m\n\u001b[1;32m--> 457\u001b[1;33m     \u001b[0mparser\u001b[0m \u001b[1;33m=\u001b[0m \u001b[0mTextFileReader\u001b[0m\u001b[1;33m(\u001b[0m\u001b[0mfp_or_buf\u001b[0m\u001b[1;33m,\u001b[0m \u001b[1;33m**\u001b[0m\u001b[0mkwds\u001b[0m\u001b[1;33m)\u001b[0m\u001b[1;33m\u001b[0m\u001b[1;33m\u001b[0m\u001b[0m\n\u001b[0m\u001b[0;32m    458\u001b[0m \u001b[1;33m\u001b[0m\u001b[0m\n\u001b[0;32m    459\u001b[0m     \u001b[1;32mif\u001b[0m \u001b[0mchunksize\u001b[0m \u001b[1;32mor\u001b[0m \u001b[0miterator\u001b[0m\u001b[1;33m:\u001b[0m\u001b[1;33m\u001b[0m\u001b[1;33m\u001b[0m\u001b[0m\n",
      "\u001b[1;32m~\\Anaconda3\\envs\\nlp\\lib\\site-packages\\pandas\\io\\parsers.py\u001b[0m in \u001b[0;36m__init__\u001b[1;34m(self, f, engine, **kwds)\u001b[0m\n\u001b[0;32m    893\u001b[0m             \u001b[0mself\u001b[0m\u001b[1;33m.\u001b[0m\u001b[0moptions\u001b[0m\u001b[1;33m[\u001b[0m\u001b[1;34m\"has_index_names\"\u001b[0m\u001b[1;33m]\u001b[0m \u001b[1;33m=\u001b[0m \u001b[0mkwds\u001b[0m\u001b[1;33m[\u001b[0m\u001b[1;34m\"has_index_names\"\u001b[0m\u001b[1;33m]\u001b[0m\u001b[1;33m\u001b[0m\u001b[1;33m\u001b[0m\u001b[0m\n\u001b[0;32m    894\u001b[0m \u001b[1;33m\u001b[0m\u001b[0m\n\u001b[1;32m--> 895\u001b[1;33m         \u001b[0mself\u001b[0m\u001b[1;33m.\u001b[0m\u001b[0m_make_engine\u001b[0m\u001b[1;33m(\u001b[0m\u001b[0mself\u001b[0m\u001b[1;33m.\u001b[0m\u001b[0mengine\u001b[0m\u001b[1;33m)\u001b[0m\u001b[1;33m\u001b[0m\u001b[1;33m\u001b[0m\u001b[0m\n\u001b[0m\u001b[0;32m    896\u001b[0m \u001b[1;33m\u001b[0m\u001b[0m\n\u001b[0;32m    897\u001b[0m     \u001b[1;32mdef\u001b[0m \u001b[0mclose\u001b[0m\u001b[1;33m(\u001b[0m\u001b[0mself\u001b[0m\u001b[1;33m)\u001b[0m\u001b[1;33m:\u001b[0m\u001b[1;33m\u001b[0m\u001b[1;33m\u001b[0m\u001b[0m\n",
      "\u001b[1;32m~\\Anaconda3\\envs\\nlp\\lib\\site-packages\\pandas\\io\\parsers.py\u001b[0m in \u001b[0;36m_make_engine\u001b[1;34m(self, engine)\u001b[0m\n\u001b[0;32m   1133\u001b[0m     \u001b[1;32mdef\u001b[0m \u001b[0m_make_engine\u001b[0m\u001b[1;33m(\u001b[0m\u001b[0mself\u001b[0m\u001b[1;33m,\u001b[0m \u001b[0mengine\u001b[0m\u001b[1;33m=\u001b[0m\u001b[1;34m\"c\"\u001b[0m\u001b[1;33m)\u001b[0m\u001b[1;33m:\u001b[0m\u001b[1;33m\u001b[0m\u001b[1;33m\u001b[0m\u001b[0m\n\u001b[0;32m   1134\u001b[0m         \u001b[1;32mif\u001b[0m \u001b[0mengine\u001b[0m \u001b[1;33m==\u001b[0m \u001b[1;34m\"c\"\u001b[0m\u001b[1;33m:\u001b[0m\u001b[1;33m\u001b[0m\u001b[1;33m\u001b[0m\u001b[0m\n\u001b[1;32m-> 1135\u001b[1;33m             \u001b[0mself\u001b[0m\u001b[1;33m.\u001b[0m\u001b[0m_engine\u001b[0m \u001b[1;33m=\u001b[0m \u001b[0mCParserWrapper\u001b[0m\u001b[1;33m(\u001b[0m\u001b[0mself\u001b[0m\u001b[1;33m.\u001b[0m\u001b[0mf\u001b[0m\u001b[1;33m,\u001b[0m \u001b[1;33m**\u001b[0m\u001b[0mself\u001b[0m\u001b[1;33m.\u001b[0m\u001b[0moptions\u001b[0m\u001b[1;33m)\u001b[0m\u001b[1;33m\u001b[0m\u001b[1;33m\u001b[0m\u001b[0m\n\u001b[0m\u001b[0;32m   1136\u001b[0m         \u001b[1;32melse\u001b[0m\u001b[1;33m:\u001b[0m\u001b[1;33m\u001b[0m\u001b[1;33m\u001b[0m\u001b[0m\n\u001b[0;32m   1137\u001b[0m             \u001b[1;32mif\u001b[0m \u001b[0mengine\u001b[0m \u001b[1;33m==\u001b[0m \u001b[1;34m\"python\"\u001b[0m\u001b[1;33m:\u001b[0m\u001b[1;33m\u001b[0m\u001b[1;33m\u001b[0m\u001b[0m\n",
      "\u001b[1;32m~\\Anaconda3\\envs\\nlp\\lib\\site-packages\\pandas\\io\\parsers.py\u001b[0m in \u001b[0;36m__init__\u001b[1;34m(self, src, **kwds)\u001b[0m\n\u001b[0;32m   1915\u001b[0m         \u001b[0mkwds\u001b[0m\u001b[1;33m[\u001b[0m\u001b[1;34m\"usecols\"\u001b[0m\u001b[1;33m]\u001b[0m \u001b[1;33m=\u001b[0m \u001b[0mself\u001b[0m\u001b[1;33m.\u001b[0m\u001b[0musecols\u001b[0m\u001b[1;33m\u001b[0m\u001b[1;33m\u001b[0m\u001b[0m\n\u001b[0;32m   1916\u001b[0m \u001b[1;33m\u001b[0m\u001b[0m\n\u001b[1;32m-> 1917\u001b[1;33m         \u001b[0mself\u001b[0m\u001b[1;33m.\u001b[0m\u001b[0m_reader\u001b[0m \u001b[1;33m=\u001b[0m \u001b[0mparsers\u001b[0m\u001b[1;33m.\u001b[0m\u001b[0mTextReader\u001b[0m\u001b[1;33m(\u001b[0m\u001b[0msrc\u001b[0m\u001b[1;33m,\u001b[0m \u001b[1;33m**\u001b[0m\u001b[0mkwds\u001b[0m\u001b[1;33m)\u001b[0m\u001b[1;33m\u001b[0m\u001b[1;33m\u001b[0m\u001b[0m\n\u001b[0m\u001b[0;32m   1918\u001b[0m         \u001b[0mself\u001b[0m\u001b[1;33m.\u001b[0m\u001b[0munnamed_cols\u001b[0m \u001b[1;33m=\u001b[0m \u001b[0mself\u001b[0m\u001b[1;33m.\u001b[0m\u001b[0m_reader\u001b[0m\u001b[1;33m.\u001b[0m\u001b[0munnamed_cols\u001b[0m\u001b[1;33m\u001b[0m\u001b[1;33m\u001b[0m\u001b[0m\n\u001b[0;32m   1919\u001b[0m \u001b[1;33m\u001b[0m\u001b[0m\n",
      "\u001b[1;32mpandas/_libs/parsers.pyx\u001b[0m in \u001b[0;36mpandas._libs.parsers.TextReader.__cinit__\u001b[1;34m()\u001b[0m\n",
      "\u001b[1;32mpandas/_libs/parsers.pyx\u001b[0m in \u001b[0;36mpandas._libs.parsers.TextReader._setup_parser_source\u001b[1;34m()\u001b[0m\n",
      "\u001b[1;31mFileNotFoundError\u001b[0m: [Errno 2] File b'../input/driver_imgs_list.csv' does not exist: b'../input/driver_imgs_list.csv'"
     ]
    }
   ],
   "source": [
    "dataset = pd.read_csv('../input/driver_imgs_list.csv')\n",
    "dataset.head(5)"
   ]
  }
 ],
 "metadata": {
  "kernelspec": {
   "display_name": "Python 3",
   "language": "python",
   "name": "python3"
  },
  "language_info": {
   "codemirror_mode": {
    "name": "ipython",
    "version": 3
   },
   "file_extension": ".py",
   "mimetype": "text/x-python",
   "name": "python",
   "nbconvert_exporter": "python",
   "pygments_lexer": "ipython3",
   "version": "3.7.5"
  }
 },
 "nbformat": 4,
 "nbformat_minor": 2
}
